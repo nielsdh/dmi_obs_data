{
 "cells": [
  {
   "cell_type": "code",
   "execution_count": 1,
   "id": "e0e60064-67af-4548-8ff4-bccd6d38f14e",
   "metadata": {},
   "outputs": [],
   "source": [
    "import sqlite3\n",
    "import json\n",
    "from operator import itemgetter\n",
    "import pandas as pd\n",
    "from zipfile import ZipFile"
   ]
  },
  {
   "cell_type": "code",
   "execution_count": 2,
   "id": "cea79df7-1cdb-4fd9-8806-1bafdb1b69fc",
   "metadata": {},
   "outputs": [],
   "source": [
    "con = sqlite3.connect(\"dmi.db\")\n",
    "cur = con.cursor()"
   ]
  },
  {
   "cell_type": "code",
   "execution_count": 3,
   "id": "ed2860a0-a0bc-42a8-b023-6184b30147c9",
   "metadata": {},
   "outputs": [
    {
     "data": {
      "text/plain": [
       "<sqlite3.Cursor at 0x28f1def35c0>"
      ]
     },
     "execution_count": 3,
     "metadata": {},
     "output_type": "execute_result"
    }
   ],
   "source": [
    "cur.execute(\n",
    "    '''CREATE TABLE IF NOT EXISTS feature (\n",
    "        stationId TEXT,\n",
    "        created_dt TEXT,\n",
    "        observed_dt TEXT,\n",
    "        parameterId TEXT,\n",
    "        value FLOAT,\n",
    "        id TEXT\n",
    "        )\n",
    "    ''')\n",
    "\n",
    "cur.execute(\n",
    "    '''CREATE TABLE IF NOT EXISTS stations (\n",
    "        stationId TEXT,\n",
    "        name TEXT,\n",
    "        country TEXT,\n",
    "        owner TEXT,\n",
    "        type TEXT,\n",
    "        status TEXT,\n",
    "        stationHeight FLOAT,\n",
    "        latitude FLOAT,\n",
    "        longitude FLOAT,\n",
    "        region int,\n",
    "        created_dt TEXT,\n",
    "        operationFrom_dt TEXT,\n",
    "        operationTo_dt TEXT,\n",
    "        updated_dt TEXT,\n",
    "        validFrom_dt TEXT,\n",
    "        validTo_dt TEXT,\n",
    "        wmoCountryCode INT,\n",
    "        wmoStationId TEXT\n",
    "        )\n",
    "    ''')"
   ]
  },
  {
   "cell_type": "markdown",
   "id": "44921cd3-922f-4ae0-8d66-ff02dfc96a6c",
   "metadata": {},
   "source": [
    "Metrologisk observationsstationer hentet fra: https://confluence.govcloud.dk/display/FDAPI/Meteorological+Observation+Data+Stations"
   ]
  },
  {
   "cell_type": "code",
   "execution_count": null,
   "id": "b0509eb4-b2aa-4098-a1c5-48cff907cbee",
   "metadata": {},
   "outputs": [],
   "source": [
    "maalestationer = pd.read_csv('målestationer.csv')"
   ]
  },
  {
   "cell_type": "markdown",
   "id": "95bb7e76-9980-42ae-9ed9-dddbcdb81067",
   "metadata": {},
   "source": [
    "all.zip filen som indeholder alle observationerne er hentet her fra https://confluence.govcloud.dk/display/FDAPI/Download"
   ]
  },
  {
   "cell_type": "code",
   "execution_count": null,
   "id": "afb0a36c-92c1-4fae-8a1b-8766f02904b4",
   "metadata": {},
   "outputs": [],
   "source": [
    "%%time\n",
    "# tager ca. at køre\n",
    "\n",
    "n_filer_behandlet = 0\n",
    "with ZipFile('all.zip', 'r') as all_data:\n",
    "    data_files = all_data.namelist()\n",
    "    for df in data_files:\n",
    "        d_table = []\n",
    "        for l in all_data.open(df):\n",
    "            d = json.loads(l)\n",
    "            if d['type'] == 'Feature':\n",
    "                d_prop = d['properties']\n",
    "                row = [d_prop.get('stationId', None),\n",
    "                       d_prop.get('created', None),\n",
    "                       d_prop.get('observed', None),\n",
    "                       d_prop.get('parameterId', None),\n",
    "                       d_prop.get('value', None),\n",
    "                       d.get('id', None)]\n",
    "                d_table.append(row)\n",
    "        cur.executemany('insert into feature values (?, ?, ?, ?, ?, ?);', d_table)\n",
    "\n",
    "        n_filer_behandlet += 1\n",
    "        if n_filer_behandlet % 2500 == 0:\n",
    "            print(f'{n_filer_behandlet/len(data_files):.0%} filer behandlet')"
   ]
  },
  {
   "cell_type": "code",
   "execution_count": null,
   "id": "ab1ecd66-bf1b-4bc5-a98a-ee51337fc218",
   "metadata": {},
   "outputs": [],
   "source": [
    "pd.read_sql('select count(*) as antal_observationer from feature', con, parse_dates=['created_dt', 'observed_dt'])"
   ]
  }
 ],
 "metadata": {
  "kernelspec": {
   "display_name": "Python 3 (ipykernel)",
   "language": "python",
   "name": "python3"
  },
  "language_info": {
   "codemirror_mode": {
    "name": "ipython",
    "version": 3
   },
   "file_extension": ".py",
   "mimetype": "text/x-python",
   "name": "python",
   "nbconvert_exporter": "python",
   "pygments_lexer": "ipython3",
   "version": "3.11.7"
  }
 },
 "nbformat": 4,
 "nbformat_minor": 5
}
