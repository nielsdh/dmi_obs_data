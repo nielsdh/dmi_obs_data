{
 "cells": [
  {
   "cell_type": "code",
   "execution_count": null,
   "id": "e0e60064-67af-4548-8ff4-bccd6d38f14e",
   "metadata": {},
   "outputs": [],
   "source": [
    "import sqlite3\n",
    "import orjson  # hurtigere json bibliotek\n",
    "import pandas as pd\n",
    "from zipfile import ZipFile\n",
    "import time"
   ]
  },
  {
   "cell_type": "code",
   "execution_count": null,
   "id": "cea79df7-1cdb-4fd9-8806-1bafdb1b69fc",
   "metadata": {},
   "outputs": [],
   "source": [
    "con = sqlite3.connect(\"dmi.db\")\n",
    "con.execute('PRAGMA journal_mode = OFF;')\n",
    "con.execute('PRAGMA synchronous = OFF;')\n",
    "con.execute('PRAGMA cache_size = 1000000;')  # give it a GB\n",
    "con.execute('PRAGMA locking_mode = EXCLUSIVE;')\n",
    "cur = con.cursor()"
   ]
  },
  {
   "cell_type": "code",
   "execution_count": null,
   "id": "ed2860a0-a0bc-42a8-b023-6184b30147c9",
   "metadata": {},
   "outputs": [],
   "source": [
    "cur.execute(\n",
    "    '''CREATE TABLE IF NOT EXISTS features (\n",
    "        stationId INT,\n",
    "        observed_dt TEXT,\n",
    "        parameterId INT,\n",
    "        value REAL,\n",
    "        PRIMARY KEY (stationId, parameterId, observed_dt)\n",
    "        ) WITHOUT ROWID;\n",
    "    ''')\n",
    "con.commit()\n",
    "\n",
    "cur.execute(\n",
    "    '''CREATE TABLE IF NOT EXISTS stations (\n",
    "        stationId INT,\n",
    "        name TEXT,\n",
    "        country TEXT,\n",
    "        owner TEXT,\n",
    "        type TEXT,\n",
    "        status TEXT,\n",
    "        stationHeight REAL,\n",
    "        barometerHeight REAL,\n",
    "        latitude REAL,\n",
    "        longitude REAL,\n",
    "        region INT,\n",
    "        created_dt TEXT,\n",
    "        operationFrom_dt TEXT,\n",
    "        operationTo_dt TEXT,\n",
    "        updated_dt TEXT,\n",
    "        validFrom_dt TEXT,\n",
    "        validTo_dt TEXT,\n",
    "        wmoCountryCode INT,\n",
    "        wmoStationId TEXT\n",
    "        )\n",
    "    ''')\n",
    "con.commit()\n",
    "\n",
    "cur.execute(\n",
    "    '''CREATE TABLE IF NOT EXISTS parameters (\n",
    "        parameterId INT,\n",
    "        name TEXT,\n",
    "        unit TEXT,\n",
    "        description TEXT,\n",
    "        update_frequency TEXT,\n",
    "        available_denmark INT,\n",
    "        available_greenland INT\n",
    "        )\n",
    "    ''')\n",
    "con.commit()"
   ]
  },
  {
   "cell_type": "markdown",
   "id": "44921cd3-922f-4ae0-8d66-ff02dfc96a6c",
   "metadata": {},
   "source": [
    "Metrologisk observationsstationer hentet fra: https://confluence.govcloud.dk/display/FDAPI/Meteorological+Observation+Data+Stations"
   ]
  },
  {
   "cell_type": "code",
   "execution_count": null,
   "id": "b0509eb4-b2aa-4098-a1c5-48cff907cbee",
   "metadata": {},
   "outputs": [],
   "source": [
    "maalestationer = pd.read_csv('målestationer.csv')\n",
    "columns_stations = [r[1] for r in cur.execute('PRAGMA table_info(stations)').fetchall()]\n",
    "cur.executemany('insert into stations values ('+'?, '*(len(columns_stations)-1)+'?);', \n",
    "                maalestationer[columns_stations].values)\n",
    "con.commit()"
   ]
  },
  {
   "cell_type": "markdown",
   "id": "ec40ad2d-f8f2-4fe6-816d-ef175911e7c9",
   "metadata": {},
   "source": [
    "Parameter er hentet her fra: https://confluence.govcloud.dk/display/FDAPI/Meteorological+Observation+Data"
   ]
  },
  {
   "cell_type": "code",
   "execution_count": null,
   "id": "d2ae21a4-5b4d-4680-a9c2-d89012aeb88b",
   "metadata": {},
   "outputs": [],
   "source": [
    "parameter = pd.read_csv('parameter.csv')\n",
    "parameter['parameterId'] = list(range(parameter.shape[0]))\n",
    "columns_parameter = [r[1] for r in cur.execute('PRAGMA table_info(parameters)').fetchall()]\n",
    "cur.executemany('insert into parameters values ('+'?, '*(len(columns_parameter)-1)+'?);', \n",
    "                parameter[columns_parameter].values)\n",
    "con.commit()"
   ]
  },
  {
   "cell_type": "markdown",
   "id": "95bb7e76-9980-42ae-9ed9-dddbcdb81067",
   "metadata": {},
   "source": [
    "all.zip filen som indeholder alle observationerne er hentet her fra https://confluence.govcloud.dk/display/FDAPI/Download"
   ]
  },
  {
   "cell_type": "code",
   "execution_count": null,
   "id": "afb0a36c-92c1-4fae-8a1b-8766f02904b4",
   "metadata": {},
   "outputs": [],
   "source": [
    "%%time\n",
    "# tager ca. 4 timer\n",
    "\n",
    "n_filer_behandlet = 0\n",
    "pct_last_print = 0\n",
    "t0 = time.time()\n",
    "d_table = {}  # dict fordi der kan være duplicates på primary key\n",
    "parameterIdMap = dict(parameter[['name', 'parameterId']].values)\n",
    "\n",
    "fejl = []\n",
    "\n",
    "try:\n",
    "    with ZipFile('all.zip', 'r') as all_data:\n",
    "        data_files = sorted(all_data.namelist())\n",
    "        for df in data_files:\n",
    "            for l in all_data.open(df):\n",
    "                d = orjson.loads(l)\n",
    "                if d['type'] == 'Feature':\n",
    "                    d_prop = d['properties']\n",
    "                    row_key = (int(d_prop.get('stationId')),\n",
    "                               d_prop.get('observed', None),\n",
    "                               parameterIdMap.get(d_prop.get('parameterId', None), None))\n",
    "                    row_value = d_prop.get('value', None)\n",
    "                    \n",
    "                    if any((r==None for r in row_key)):\n",
    "                        fejl.append(row_key)\n",
    "                    else:\n",
    "                        d_table[row_key] = row_value  # hvis der er duplicates overskives den forrige\n",
    "                    \n",
    "            n_filer_behandlet += 1\n",
    "            if len(d_table) > 100000:\n",
    "                cur.executemany('insert into features values (?, ?, ?, ?);',\n",
    "                                ((s, o, p, v) for (s, o, p), v in d_table.items()))\n",
    "                con.commit()\n",
    "                d_table = {}\n",
    "                t_eps = time.time()-t0\n",
    "                pct_done = n_filer_behandlet/len(data_files)\n",
    "                if pct_done-pct_last_print > 0.01:\n",
    "                    print(f'{pct_done:.0%} filer behandlet. Tid gået {t_eps/60:.1f} minutter')\n",
    "                    pct_last_print = pct_done\n",
    "\n",
    "        cur.executemany('insert into features values (?, ?, ?, ?);',\n",
    "                        ((s, o, p, v) for (s, o, p), v in d_table.items()))\n",
    "        con.commit()\n",
    "        t_eps = time.time()-t0\n",
    "        pct_done = n_filer_behandlet/len(data_files)\n",
    "        print(f'{pct_done:.0%} filer behandlet. Tid gået {t_eps/60:.1f} minutter')\n",
    "        con.close()\n",
    "\n",
    "except Exception as e:\n",
    "    print(f'Fil: {df}')\n",
    "    print(f'line: {l}')\n",
    "    print('d_prop')\n",
    "    print(d_prop)\n",
    "\n",
    "    raise e"
   ]
  }
 ],
 "metadata": {
  "kernelspec": {
   "display_name": "Python 3 (ipykernel)",
   "language": "python",
   "name": "python3"
  },
  "language_info": {
   "codemirror_mode": {
    "name": "ipython",
    "version": 3
   },
   "file_extension": ".py",
   "mimetype": "text/x-python",
   "name": "python",
   "nbconvert_exporter": "python",
   "pygments_lexer": "ipython3",
   "version": "3.11.7"
  }
 },
 "nbformat": 4,
 "nbformat_minor": 5
}
